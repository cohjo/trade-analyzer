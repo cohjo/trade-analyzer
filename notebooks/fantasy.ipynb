{
 "cells": [
  {
   "cell_type": "code",
   "execution_count": 4,
   "id": "a60b6ec3-44d8-46dc-b66d-1787b680954f",
   "metadata": {},
   "outputs": [],
   "source": [
    "import requests\n",
    "import pandas as pd"
   ]
  },
  {
   "cell_type": "code",
   "execution_count": 2,
   "id": "dcb1d7ed-3e1e-48f3-be01-1092c199c162",
   "metadata": {},
   "outputs": [],
   "source": [
    "url = \"https://fantasy.espn.com/apis/v3/games/ffl/seasons/2022/segments/0/leagues/929814148\"\n",
    "swid = \"{C3925562-B782-4DD8-9255-62B7823DD862}\"\n",
    "espn_s2 = \"AEBsN6fl%2FpJFxTCRZFm9hK94kGcsmFtgWg5KDhEhPVpBDRJziP2rpZzmTzFzS%2BbMwO9by%2B7GLvMz3AULJdalpJ40Q7wLEAf3Kvz7XJUriLQdSwrspYTCnsvNR43tZVnNfl1%2FGAJk1Oasvu7MG49GNmWMCSJEd8v0JlqTAn%2BJ85O%2FwCgzTI93n7BBzgoNrIyqB0RdrmKNBaOFzyu9fiNEcoU%2Fbmg2uU%2B%2BauS9r38cb%2FQ%2B93fwsspxqibTcO%2F43inuHIKP7Fq%2FvcM5qVzr%2FH%2BpaVMpAgFlqb86OV7XMN8qCBStLAWlKLxVzdGrvDVyy1sE2hA%3D\""
   ]
  },
  {
   "cell_type": "code",
   "execution_count": 5,
   "id": "fa5a4a8c-b2f2-4102-b060-b74ebf375127",
   "metadata": {},
   "outputs": [],
   "source": [
    "r = requests.get(url, cookies={\"swid\": swid, \"espn_s2\": espn_s2})"
   ]
  },
  {
   "cell_type": "code",
   "execution_count": null,
   "id": "ed98e7e8-6488-4ffa-839e-5ab4b944df6f",
   "metadata": {},
   "outputs": [],
   "source": []
  }
 ],
 "metadata": {
  "kernelspec": {
   "display_name": "Python 3 (ipykernel)",
   "language": "python",
   "name": "python3"
  },
  "language_info": {
   "codemirror_mode": {
    "name": "ipython",
    "version": 3
   },
   "file_extension": ".py",
   "mimetype": "text/x-python",
   "name": "python",
   "nbconvert_exporter": "python",
   "pygments_lexer": "ipython3",
   "version": "3.8.8"
  }
 },
 "nbformat": 4,
 "nbformat_minor": 5
}
